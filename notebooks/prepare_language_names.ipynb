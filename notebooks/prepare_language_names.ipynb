{
 "cells": [
  {
   "cell_type": "code",
   "execution_count": 1,
   "metadata": {},
   "outputs": [],
   "source": [
    "import pandas as pd\n",
    "import numpy as np"
   ]
  },
  {
   "cell_type": "code",
   "execution_count": 2,
   "metadata": {},
   "outputs": [],
   "source": [
    "phobile_file_path = \"./downloads/phoible.csv\"\n",
    "\n",
    "phoible_df = pd.read_csv(phobile_file_path, encoding=\"utf-8\", engine=\"python\", dtype=str)\n",
    "\n",
    "dialects_df = (phoible_df[[\"LanguageName\", \"SpecificDialect\"]]\n",
    "                         .fillna({\"SpecificDialect\": \"none\"})\n",
    "                         .drop_duplicates()\n",
    "                         .reset_index(drop=True))\n",
    "\n",
    "language_counts = dialects_df.LanguageName.value_counts()"
   ]
  },
  {
   "cell_type": "code",
   "execution_count": 3,
   "metadata": {},
   "outputs": [
    {
     "name": "stdout",
     "output_type": "stream",
     "text": [
      "(2949,)\n"
     ]
    }
   ],
   "source": [
    "import re\n",
    "\n",
    "def map_dialect(d) -> str:\n",
    "    dialect = (d.SpecificDialect\n",
    "               .replace(\"as spoken in \", \"\")\n",
    "               .replace(\"Eastern districts of Assam (North Eastern state of India); Jorhat\", \"(Eastern)\")\n",
    "               .replace(\"Bangladeshi Standard (spoken in Dhaka and other urban aread of Bangladesh)\", \"(Bangladeshi, Standard)\")\n",
    "               .replace(\" (can be seen as a fusion of aspects of central Igbo and Onitsha Igbo; cannot be localised in any particular region or area of Igboland)\", \"\")\n",
    "               .replace(\"Standard Korean (spoken in and around Seoul)\", \"(Standard)\")\n",
    "               .replace(\" or other areas with similar pitch accent systems\", \"\")\n",
    "               .replace(\"Educated colloquial Hungarian (Budapest of the 1990s)\", \"(Educated colloquial)\")\n",
    "               .replace(\" (Kano) Hausa (spoken in Kano, Nigeria)\", \"\")\n",
    "               .replace(\"Standard Hindi (as spoken in Varanasi, Lucknow, Delhi etc.)\", \"(Standard)\")\n",
    "               .replace(\"Standard Thai (combinative style)\", \"(Standard)\")\n",
    "               .replace(\" English (spoken in Newcastle)\", \"\")\n",
    "               )\n",
    "    language_parts = d.LanguageName.split(\";\")\n",
    "    language = language_parts[0] if len(language_parts) == 1 else f\"{language_parts[0]} ({language_parts[1]})\"\n",
    "\n",
    "    if dialect == \"none\" or language_counts[d.LanguageName] == 1:\n",
    "        return language\n",
    "        \n",
    "    \n",
    "    m = re.match(r'^(.+) \\(([^)]+)\\) (.+)$', dialect)\n",
    "\n",
    "    if m is not None:\n",
    "        if m.group(2) == m.group(3):\n",
    "            dialect = f\"{m.group(1)} ({m.group(2)})\"\n",
    "\n",
    "    m = re.match(r'^the.+dialect of (\\w+) .+$', dialect)\n",
    "\n",
    "    if m is not None:\n",
    "        dialect = f\"({m.group(1)})\"\n",
    "\n",
    "    if dialect.startswith(language) and language_counts[d.LanguageName] == 1:\n",
    "        return dialect\n",
    "    \n",
    "    return f\"{language} {dialect}\"\n",
    "    \n",
    "    \n",
    "language_names = dialects_df.apply(map_dialect, axis=1).to_numpy()\n",
    "print(language_names.shape)\n",
    "\n",
    "assert(len(language_names) == len(set(language_names)) == len(dialects_df))\n",
    "\n",
    "np.save(\"./data/language_names.npy\", language_names)"
   ]
  }
 ],
 "metadata": {
  "kernelspec": {
   "display_name": "wals",
   "language": "python",
   "name": "python3"
  },
  "language_info": {
   "codemirror_mode": {
    "name": "ipython",
    "version": 3
   },
   "file_extension": ".py",
   "mimetype": "text/x-python",
   "name": "python",
   "nbconvert_exporter": "python",
   "pygments_lexer": "ipython3",
   "version": "3.9.0"
  }
 },
 "nbformat": 4,
 "nbformat_minor": 2
}
