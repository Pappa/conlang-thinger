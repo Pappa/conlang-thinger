{
 "cells": [
  {
   "cell_type": "code",
   "execution_count": null,
   "metadata": {},
   "outputs": [],
   "source": [
    "from pathlib import Path\n",
    "import requests\n",
    "from tqdm import tqdm\n",
    "\n",
    "phoible_data_url = \"https://raw.githubusercontent.com/phoible/dev/v2.0/data/phoible.csv\"\n",
    "phobile_file_path = \"./data/phoible.csv\"\n",
    "\n",
    "if not Path(phobile_file_path).exists():\n",
    "    response = requests.get(phoible_data_url, stream=True)\n",
    "\n",
    "    with open(phobile_file_path, \"wb\") as fh:\n",
    "        for data in tqdm(response.iter_content()):\n",
    "            fh.write(data)"
   ]
  },
  {
   "cell_type": "code",
   "execution_count": null,
   "metadata": {},
   "outputs": [],
   "source": [
    "import pandas as pd\n",
    "import numpy as np\n",
    "\n",
    "phoible_df = pd.read_csv(phobile_file_path)\n",
    "print(phoible_df.columns)"
   ]
  },
  {
   "cell_type": "code",
   "execution_count": null,
   "metadata": {},
   "outputs": [],
   "source": [
    "consonants_plumonic_df = pd.read_csv(\"./consonants_plumonic.csv\", dtype=str, index_col=[0], keep_default_na=False, na_values=[\"-1\"])\n",
    "consonants_plumonic_df"
   ]
  },
  {
   "cell_type": "markdown",
   "metadata": {},
   "source": []
  },
  {
   "cell_type": "code",
   "execution_count": null,
   "metadata": {},
   "outputs": [],
   "source": [
    "consonants = set(consonants_plumonic_df.stack().replace(\"\", np.nan).dropna().unique().tolist())\n",
    "\n",
    "phobile_consonants_df = phoible_df[phoible_df[\"SegmentClass\"] == \"consonant\"][[\"LanguageName\", \"SpecificDialect\", \"Phoneme\"]]\n",
    "phobile_consonants_df.fillna({\"SpecificDialect\": \"none\"}, inplace=True)\n",
    "\n",
    "grouped = phobile_consonants_df.head(100).groupby([\"LanguageName\", \"SpecificDialect\"])\n",
    "\n",
    "for grp, data in grouped:\n",
    "    print(grp)\n",
    "    lang_consonants = set(data.Phoneme.to_list()).intersection(consonants)\n",
    "    result = np.where(consonants_plumonic_df.isin(lang_consonants), 1, 0)\n",
    "    print(result)\n",
    "\n",
    "# for c in consonants:\n",
    "#     result = np.where(consonants_plumonic_df == c, 1, 0)\n",
    "#     print(result)"
   ]
  }
 ],
 "metadata": {
  "kernelspec": {
   "display_name": "wals",
   "language": "python",
   "name": "python3"
  },
  "language_info": {
   "codemirror_mode": {
    "name": "ipython",
    "version": 3
   },
   "file_extension": ".py",
   "mimetype": "text/x-python",
   "name": "python",
   "nbconvert_exporter": "python",
   "pygments_lexer": "ipython3",
   "version": "3.9.0"
  }
 },
 "nbformat": 4,
 "nbformat_minor": 2
}
