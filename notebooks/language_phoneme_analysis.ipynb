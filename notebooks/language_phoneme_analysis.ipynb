{
 "cells": [
  {
   "cell_type": "code",
   "execution_count": 167,
   "metadata": {},
   "outputs": [],
   "source": [
    "import numpy as np\n",
    "import pandas as pd"
   ]
  },
  {
   "cell_type": "code",
   "execution_count": 168,
   "metadata": {},
   "outputs": [
    {
     "data": {
      "text/plain": [
       "((2949,), (2949, 24, 22))"
      ]
     },
     "execution_count": 168,
     "metadata": {},
     "output_type": "execute_result"
    }
   ],
   "source": [
    "language_phonemes = np.load(\"./data/language_phonemes.npy\", allow_pickle=True).astype(int)\n",
    "language_names = np.load(\"./data/language_names.npy\", allow_pickle=True)[:, 0]\n",
    "\n",
    "assert language_phonemes.shape[0] == language_names.shape[0]\n",
    "language_names.shape, language_phonemes.shape"
   ]
  },
  {
   "cell_type": "markdown",
   "metadata": {},
   "source": [
    "For languages that have multiple samples in the Phoible dataset, we need to select a way of choosing one sample or combine multiple samples into one."
   ]
  },
  {
   "cell_type": "code",
   "execution_count": 169,
   "metadata": {},
   "outputs": [],
   "source": [
    "unique_names, unique_names_count = np.unique(language_names, return_counts=True)\n",
    "multiple_samples = unique_names[unique_names_count > 1]\n",
    "single_sample = unique_names[unique_names_count == 1]\n",
    "\n",
    "language_data = {\n",
    "    name: {\"data\": language_phonemes[language_names == name]} for name in unique_names\n",
    "}\n",
    "\n",
    "# sense check\n",
    "for name in unique_names:\n",
    "    assert (\n",
    "        language_phonemes[language_names == name].shape\n",
    "        == language_data[name][\"data\"].shape\n",
    "    )"
   ]
  },
  {
   "cell_type": "code",
   "execution_count": 170,
   "metadata": {},
   "outputs": [],
   "source": [
    "all_values = np.sort(np.unique(language_phonemes))\n",
    "# all_values = all_values[all_values > 0]\n",
    "\n",
    "for name, v in language_data.items():\n",
    "    if name in multiple_samples:\n",
    "        v[\"min\"] = np.min(v[\"data\"], axis=0)\n",
    "        v[\"max\"] = np.max(v[\"data\"], axis=0)\n",
    "        v[\"mean\"] = np.rint(np.mean(v[\"data\"], axis=0))\n",
    "        v[\"diff\"] = v[\"max\"] - v[\"min\"]\n",
    "    else:\n",
    "        v[\"min\"] = v[\"data\"][0]\n",
    "        v[\"max\"] = v[\"data\"][0]\n",
    "        v[\"mean\"] = v[\"data\"][0]\n",
    "        v[\"diff\"] = np.zeros(v[\"data\"][0].shape)\n",
    "\n",
    "    min, min_counts = np.unique(v[\"min\"], return_counts=True)\n",
    "    max, max_counts = np.unique(v[\"max\"], return_counts=True)\n",
    "\n",
    "    counts = [\n",
    "        *[0 if n not in min else min_counts[np.where(min == n)][0] for n in all_values],\n",
    "        *[0 if n not in max else max_counts[np.where(max == n)][0] for n in all_values],\n",
    "    ]\n",
    "    v[\"counts\"] = np.array(counts)\n",
    "\n",
    "# sense check\n",
    "assert all(\n",
    "    [\n",
    "        metric.shape == language_phonemes.shape[1:]\n",
    "        for k, v in language_data.items()\n",
    "        for n, metric in v.items()\n",
    "        if n != \"data\" and n != \"counts\"\n",
    "    ]\n",
    ")"
   ]
  },
  {
   "cell_type": "code",
   "execution_count": 171,
   "metadata": {},
   "outputs": [
    {
     "data": {
      "text/html": [
       "<div>\n",
       "<style scoped>\n",
       "    .dataframe tbody tr th:only-of-type {\n",
       "        vertical-align: middle;\n",
       "    }\n",
       "\n",
       "    .dataframe tbody tr th {\n",
       "        vertical-align: top;\n",
       "    }\n",
       "\n",
       "    .dataframe thead th {\n",
       "        text-align: right;\n",
       "    }\n",
       "</style>\n",
       "<table border=\"1\" class=\"dataframe\">\n",
       "  <thead>\n",
       "    <tr style=\"text-align: right;\">\n",
       "      <th></th>\n",
       "      <th>min</th>\n",
       "      <th>max</th>\n",
       "      <th>mean</th>\n",
       "      <th>diff</th>\n",
       "    </tr>\n",
       "  </thead>\n",
       "  <tbody>\n",
       "    <tr>\n",
       "      <th>Remo</th>\n",
       "      <td>141</td>\n",
       "      <td>229</td>\n",
       "      <td>188.0</td>\n",
       "      <td>88</td>\n",
       "    </tr>\n",
       "    <tr>\n",
       "      <th>Iron Ossetic</th>\n",
       "      <td>132</td>\n",
       "      <td>220</td>\n",
       "      <td>150.0</td>\n",
       "      <td>88</td>\n",
       "    </tr>\n",
       "    <tr>\n",
       "      <th>Laz</th>\n",
       "      <td>135</td>\n",
       "      <td>222</td>\n",
       "      <td>153.0</td>\n",
       "      <td>87</td>\n",
       "    </tr>\n",
       "    <tr>\n",
       "      <th>Lithuanian</th>\n",
       "      <td>136</td>\n",
       "      <td>219</td>\n",
       "      <td>166.0</td>\n",
       "      <td>83</td>\n",
       "    </tr>\n",
       "    <tr>\n",
       "      <th>Spanish</th>\n",
       "      <td>135</td>\n",
       "      <td>216</td>\n",
       "      <td>155.0</td>\n",
       "      <td>81</td>\n",
       "    </tr>\n",
       "  </tbody>\n",
       "</table>\n",
       "</div>"
      ],
      "text/plain": [
       "              min  max   mean diff\n",
       "Remo          141  229  188.0   88\n",
       "Iron Ossetic  132  220  150.0   88\n",
       "Laz           135  222  153.0   87\n",
       "Lithuanian    136  219  166.0   83\n",
       "Spanish       135  216  155.0   81"
      ]
     },
     "execution_count": 171,
     "metadata": {},
     "output_type": "execute_result"
    }
   ],
   "source": [
    "lang_stats = np.array(\n",
    "    [\n",
    "        [name, v[\"min\"].sum(), v[\"max\"].sum(), v[\"mean\"].sum(), v[\"diff\"].sum()]\n",
    "        for name, v in language_data.items()\n",
    "        if name in multiple_samples\n",
    "    ]\n",
    ")\n",
    "\n",
    "lang_stats_df = pd.DataFrame(\n",
    "    lang_stats[:, 1:], index=lang_stats[:, 0], columns=[\"min\", \"max\", \"mean\", \"diff\"]\n",
    ").sort_values(\"diff\", ascending=False)\n",
    "lang_stats_df.head(5)"
   ]
  },
  {
   "cell_type": "markdown",
   "metadata": {},
   "source": [
    "The table above shows a huge difference between max/min values in each sample.\n",
    "\n",
    "The values shown are sums of all the values in the language_phoneme matrix for each language."
   ]
  },
  {
   "cell_type": "code",
   "execution_count": 172,
   "metadata": {},
   "outputs": [
    {
     "data": {
      "text/html": [
       "<div>\n",
       "<style scoped>\n",
       "    .dataframe tbody tr th:only-of-type {\n",
       "        vertical-align: middle;\n",
       "    }\n",
       "\n",
       "    .dataframe tbody tr th {\n",
       "        vertical-align: top;\n",
       "    }\n",
       "\n",
       "    .dataframe thead th {\n",
       "        text-align: right;\n",
       "    }\n",
       "</style>\n",
       "<table border=\"1\" class=\"dataframe\">\n",
       "  <thead>\n",
       "    <tr style=\"text-align: right;\">\n",
       "      <th></th>\n",
       "      <th>0_min</th>\n",
       "      <th>1_min</th>\n",
       "      <th>2_min</th>\n",
       "      <th>3_min</th>\n",
       "      <th>0_max</th>\n",
       "      <th>1_max</th>\n",
       "      <th>2_max</th>\n",
       "      <th>3_max</th>\n",
       "    </tr>\n",
       "  </thead>\n",
       "  <tbody>\n",
       "    <tr>\n",
       "      <th>Shan</th>\n",
       "      <td>479</td>\n",
       "      <td>5</td>\n",
       "      <td>0</td>\n",
       "      <td>44</td>\n",
       "      <td>439</td>\n",
       "      <td>11</td>\n",
       "      <td>1</td>\n",
       "      <td>77</td>\n",
       "    </tr>\n",
       "    <tr>\n",
       "      <th>Remo</th>\n",
       "      <td>475</td>\n",
       "      <td>9</td>\n",
       "      <td>0</td>\n",
       "      <td>44</td>\n",
       "      <td>443</td>\n",
       "      <td>13</td>\n",
       "      <td>0</td>\n",
       "      <td>72</td>\n",
       "    </tr>\n",
       "    <tr>\n",
       "      <th>Mingrelian</th>\n",
       "      <td>475</td>\n",
       "      <td>9</td>\n",
       "      <td>0</td>\n",
       "      <td>44</td>\n",
       "      <td>431</td>\n",
       "      <td>24</td>\n",
       "      <td>2</td>\n",
       "      <td>71</td>\n",
       "    </tr>\n",
       "    <tr>\n",
       "      <th>Lithuanian</th>\n",
       "      <td>480</td>\n",
       "      <td>4</td>\n",
       "      <td>0</td>\n",
       "      <td>44</td>\n",
       "      <td>443</td>\n",
       "      <td>18</td>\n",
       "      <td>0</td>\n",
       "      <td>67</td>\n",
       "    </tr>\n",
       "    <tr>\n",
       "      <th>English (British)</th>\n",
       "      <td>469</td>\n",
       "      <td>15</td>\n",
       "      <td>0</td>\n",
       "      <td>44</td>\n",
       "      <td>453</td>\n",
       "      <td>7</td>\n",
       "      <td>1</td>\n",
       "      <td>67</td>\n",
       "    </tr>\n",
       "    <tr>\n",
       "      <th>Kabardian</th>\n",
       "      <td>479</td>\n",
       "      <td>5</td>\n",
       "      <td>0</td>\n",
       "      <td>44</td>\n",
       "      <td>441</td>\n",
       "      <td>22</td>\n",
       "      <td>0</td>\n",
       "      <td>65</td>\n",
       "    </tr>\n",
       "    <tr>\n",
       "      <th>Greek</th>\n",
       "      <td>469</td>\n",
       "      <td>15</td>\n",
       "      <td>0</td>\n",
       "      <td>44</td>\n",
       "      <td>440</td>\n",
       "      <td>24</td>\n",
       "      <td>1</td>\n",
       "      <td>63</td>\n",
       "    </tr>\n",
       "    <tr>\n",
       "      <th>Western Balochi</th>\n",
       "      <td>477</td>\n",
       "      <td>7</td>\n",
       "      <td>0</td>\n",
       "      <td>44</td>\n",
       "      <td>444</td>\n",
       "      <td>22</td>\n",
       "      <td>0</td>\n",
       "      <td>62</td>\n",
       "    </tr>\n",
       "    <tr>\n",
       "      <th>Friulian</th>\n",
       "      <td>478</td>\n",
       "      <td>6</td>\n",
       "      <td>0</td>\n",
       "      <td>44</td>\n",
       "      <td>455</td>\n",
       "      <td>11</td>\n",
       "      <td>0</td>\n",
       "      <td>62</td>\n",
       "    </tr>\n",
       "    <tr>\n",
       "      <th>Spanish</th>\n",
       "      <td>481</td>\n",
       "      <td>3</td>\n",
       "      <td>0</td>\n",
       "      <td>44</td>\n",
       "      <td>430</td>\n",
       "      <td>38</td>\n",
       "      <td>2</td>\n",
       "      <td>58</td>\n",
       "    </tr>\n",
       "  </tbody>\n",
       "</table>\n",
       "</div>"
      ],
      "text/plain": [
       "                   0_min  1_min  2_min  3_min  0_max  1_max  2_max  3_max\n",
       "Shan                 479      5      0     44    439     11      1     77\n",
       "Remo                 475      9      0     44    443     13      0     72\n",
       "Mingrelian           475      9      0     44    431     24      2     71\n",
       "Lithuanian           480      4      0     44    443     18      0     67\n",
       "English (British)    469     15      0     44    453      7      1     67\n",
       "Kabardian            479      5      0     44    441     22      0     65\n",
       "Greek                469     15      0     44    440     24      1     63\n",
       "Western Balochi      477      7      0     44    444     22      0     62\n",
       "Friulian             478      6      0     44    455     11      0     62\n",
       "Spanish              481      3      0     44    430     38      2     58"
      ]
     },
     "execution_count": 172,
     "metadata": {},
     "output_type": "execute_result"
    }
   ],
   "source": [
    "phoneme_type_counts = np.array(\n",
    "    [v[\"counts\"] for name, v in language_data.items() if name in multiple_samples]\n",
    ")\n",
    "\n",
    "phoneme_type_counts_df = pd.DataFrame(\n",
    "    phoneme_type_counts,\n",
    "    index=lang_stats[:, 0],\n",
    "    columns=[f\"{v}_min\" for v in all_values] + [f\"{v}_max\" for v in all_values],\n",
    ").sort_values(\"3_max\", ascending=False)\n",
    "phoneme_type_counts_df.head(10)"
   ]
  },
  {
   "cell_type": "markdown",
   "metadata": {},
   "source": [
    "It seems most of the difference can be explained by some datasets including information on phoneme length. In the language_phoneme matrix, a bitmaks-like encoding was used. \n",
    "\n",
    "- 0 = phoneme not present\n",
    "- 1 = phoneme present (regular length)\n",
    "- 2 = phoneme present (long length)\n",
    "- 3 = phoneme present (regular & long length)\n",
    "\n",
    "In the 10 examples above, the `min` sample doesn't contain long phonemes, while the `max` sample does.\n",
    "\n",
    "Based on that knowledge, it probably makes sense to use the `max` sample for each language. It probably contains the most phonemes for the language and also encodes more information about each phoneme than samples lacking any data on phoneme length.\n",
    "\n",
    "Adding an extra dimension (3d to 4d) would make it possible to use `Conv2D` layers as in image processing. "
   ]
  },
  {
   "cell_type": "code",
   "execution_count": 173,
   "metadata": {},
   "outputs": [
    {
     "data": {
      "text/plain": [
       "(2740, 24, 22, 1)"
      ]
     },
     "execution_count": 173,
     "metadata": {},
     "output_type": "execute_result"
    }
   ],
   "source": [
    "language_phonemes_selected = np.expand_dims(\n",
    "    np.array(\n",
    "        [\n",
    "            np.max(language_phonemes[language_names == name], axis=0)\n",
    "            for name in unique_names\n",
    "        ]\n",
    "    ),\n",
    "    axis=-1,\n",
    ") / np.max(language_phonemes)\n",
    "language_phonemes_selected.shape"
   ]
  },
  {
   "cell_type": "code",
   "execution_count": 175,
   "metadata": {},
   "outputs": [
    {
     "data": {
      "image/png": "[encoded data removed]",
      "text/plain": [
       "<Figure size 2400x1000 with 10 Axes>"
      ]
     },
     "metadata": {},
     "output_type": "display_data"
    }
   ],
   "source": [
    "import matplotlib.pyplot as plt\n",
    "\n",
    "r, c = 2, 5\n",
    "\n",
    "gen = np.random.default_rng()\n",
    "samples = gen.choice(language_phonemes_selected, r * c, replace=False)\n",
    "\n",
    "fig, axs = plt.subplots(r, c, figsize=(24, 10), linewidth=10)\n",
    "\n",
    "cnt = 0\n",
    "for i in range(r):\n",
    "    for j in range(c):\n",
    "        axs[i, j].imshow(\n",
    "            samples[cnt],\n",
    "            cmap=plt.get_cmap(\"pink_r\"),\n",
    "            vmin=np.min(language_phonemes_selected),\n",
    "            vmax=np.max(language_phonemes_selected),\n",
    "        )\n",
    "        axs[i, j].tick_params(\n",
    "            left=False, right=False, labelleft=False, labelbottom=False, bottom=False\n",
    "        )\n",
    "        cnt += 1\n",
    "\n",
    "plt.show()"
   ]
  },
  {
   "cell_type": "code",
   "execution_count": 176,
   "metadata": {},
   "outputs": [],
   "source": [
    "np.save(\"./data/language_phonemes_selected.npy\", language_phonemes_selected)"
   ]
  }
 ],
 "metadata": {
  "kernelspec": {
   "display_name": "wals",
   "language": "python",
   "name": "python3"
  },
  "language_info": {
   "codemirror_mode": {
    "name": "ipython",
    "version": 3
   },
   "file_extension": ".py",
   "mimetype": "text/x-python",
   "name": "python",
   "nbconvert_exporter": "python",
   "pygments_lexer": "ipython3",
   "version": "3.12.0"
  }
 },
 "nbformat": 4,
 "nbformat_minor": 2
}
