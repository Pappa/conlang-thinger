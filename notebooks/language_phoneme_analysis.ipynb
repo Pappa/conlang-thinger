{
 "cells": [
  {
   "cell_type": "code",
   "execution_count": 243,
   "metadata": {},
   "outputs": [],
   "source": [
    "import numpy as np\n",
    "import pandas as pd"
   ]
  },
  {
   "cell_type": "code",
   "execution_count": 244,
   "metadata": {},
   "outputs": [
    {
     "data": {
      "text/plain": [
       "((2949,), (2949, 24, 22))"
      ]
     },
     "execution_count": 244,
     "metadata": {},
     "output_type": "execute_result"
    }
   ],
   "source": [
    "language_phonemes = np.load(\"./data/language_phonemes.npy\", allow_pickle=True)\n",
    "language_names = np.load(\"./data/language_names.npy\", allow_pickle=True)[:, 0]\n",
    "\n",
    "assert language_phonemes.shape[0] == language_names.shape[0]\n",
    "language_names.shape, language_phonemes.shape"
   ]
  },
  {
   "cell_type": "markdown",
   "metadata": {},
   "source": [
    "For languages that have multiple samples in the Phoible dataset, we need to select a way of choosing one sample or combine multiple samples into one."
   ]
  },
  {
   "cell_type": "code",
   "execution_count": 245,
   "metadata": {},
   "outputs": [],
   "source": [
    "unique_names, unique_names_count = np.unique(language_names, return_counts=True)\n",
    "multiple_samples = unique_names[unique_names_count > 1]\n",
    "single_sample = unique_names[unique_names_count == 1]\n",
    "\n",
    "language_data = {\n",
    "    name: {\"data\": language_phonemes[language_names == name]} for name in unique_names\n",
    "}\n",
    "\n",
    "# sense check\n",
    "for name in unique_names:\n",
    "    assert (\n",
    "        language_phonemes[language_names == name].shape\n",
    "        == language_data[name][\"data\"].shape\n",
    "    )"
   ]
  },
  {
   "cell_type": "code",
   "execution_count": 246,
   "metadata": {},
   "outputs": [],
   "source": [
    "all_values = np.sort(np.unique(language_phonemes))\n",
    "# all_values = all_values[all_values > 0]\n",
    "\n",
    "for name, v in language_data.items():\n",
    "    if name in multiple_samples:\n",
    "        v[\"min\"] = np.min(v[\"data\"], axis=0)\n",
    "        v[\"max\"] = np.max(v[\"data\"], axis=0)\n",
    "        v[\"mean\"] = np.rint(np.mean(v[\"data\"], axis=0))\n",
    "        v[\"diff\"] = v[\"max\"] - v[\"min\"]\n",
    "    else:\n",
    "        v[\"min\"] = v[\"data\"][0]\n",
    "        v[\"max\"] = v[\"data\"][0]\n",
    "        v[\"mean\"] = v[\"data\"][0]\n",
    "        v[\"diff\"] = np.zeros(v[\"data\"][0].shape)\n",
    "\n",
    "    min, min_counts = np.unique(v[\"min\"], return_counts=True)\n",
    "    max, max_counts = np.unique(v[\"max\"], return_counts=True)\n",
    "\n",
    "    counts = [\n",
    "        *[0 if n not in min else min_counts[np.where(min == n)][0] for n in all_values],\n",
    "        *[0 if n not in max else max_counts[np.where(max == n)][0] for n in all_values],\n",
    "    ]\n",
    "    v[\"counts\"] = np.array(counts)\n",
    "\n",
    "# sense check\n",
    "assert all(\n",
    "    [\n",
    "        metric.shape == language_phonemes.shape[1:]\n",
    "        for k, v in language_data.items()\n",
    "        for n, metric in v.items()\n",
    "        if n != \"data\" and n != \"counts\"\n",
    "    ]\n",
    ")"
   ]
  },
  {
   "cell_type": "code",
   "execution_count": 247,
   "metadata": {},
   "outputs": [
    {
     "data": {
      "text/html": [
       "<div>\n",
       "<style scoped>\n",
       "    .dataframe tbody tr th:only-of-type {\n",
       "        vertical-align: middle;\n",
       "    }\n",
       "\n",
       "    .dataframe tbody tr th {\n",
       "        vertical-align: top;\n",
       "    }\n",
       "\n",
       "    .dataframe thead th {\n",
       "        text-align: right;\n",
       "    }\n",
       "</style>\n",
       "<table border=\"1\" class=\"dataframe\">\n",
       "  <thead>\n",
       "    <tr style=\"text-align: right;\">\n",
       "      <th></th>\n",
       "      <th>min</th>\n",
       "      <th>max</th>\n",
       "      <th>mean</th>\n",
       "      <th>diff</th>\n",
       "    </tr>\n",
       "  </thead>\n",
       "  <tbody>\n",
       "    <tr>\n",
       "      <th>Remo</th>\n",
       "      <td>13.399999999999999</td>\n",
       "      <td>101.4</td>\n",
       "      <td>56.0</td>\n",
       "      <td>88.0</td>\n",
       "    </tr>\n",
       "    <tr>\n",
       "      <th>Iron Ossetic</th>\n",
       "      <td>4.4</td>\n",
       "      <td>92.4</td>\n",
       "      <td>18.0</td>\n",
       "      <td>88.0</td>\n",
       "    </tr>\n",
       "    <tr>\n",
       "      <th>Laz</th>\n",
       "      <td>7.4</td>\n",
       "      <td>94.4</td>\n",
       "      <td>21.0</td>\n",
       "      <td>87.0</td>\n",
       "    </tr>\n",
       "    <tr>\n",
       "      <th>Lithuanian</th>\n",
       "      <td>8.4</td>\n",
       "      <td>91.4</td>\n",
       "      <td>34.0</td>\n",
       "      <td>83.0</td>\n",
       "    </tr>\n",
       "    <tr>\n",
       "      <th>Spanish</th>\n",
       "      <td>7.400000000000001</td>\n",
       "      <td>88.4</td>\n",
       "      <td>23.0</td>\n",
       "      <td>81.0</td>\n",
       "    </tr>\n",
       "  </tbody>\n",
       "</table>\n",
       "</div>"
      ],
      "text/plain": [
       "                             min    max  mean  diff\n",
       "Remo          13.399999999999999  101.4  56.0  88.0\n",
       "Iron Ossetic                 4.4   92.4  18.0  88.0\n",
       "Laz                          7.4   94.4  21.0  87.0\n",
       "Lithuanian                   8.4   91.4  34.0  83.0\n",
       "Spanish        7.400000000000001   88.4  23.0  81.0"
      ]
     },
     "execution_count": 247,
     "metadata": {},
     "output_type": "execute_result"
    }
   ],
   "source": [
    "lang_stats = np.array(\n",
    "    [\n",
    "        [name, v[\"min\"].sum(), v[\"max\"].sum(), v[\"mean\"].sum(), v[\"diff\"].sum()]\n",
    "        for name, v in language_data.items()\n",
    "        if name in multiple_samples\n",
    "    ]\n",
    ")\n",
    "\n",
    "lang_stats_df = pd.DataFrame(\n",
    "    lang_stats[:, 1:], index=lang_stats[:, 0], columns=[\"min\", \"max\", \"mean\", \"diff\"]\n",
    ").sort_values(\"diff\", ascending=False)\n",
    "lang_stats_df.head(5)"
   ]
  },
  {
   "cell_type": "markdown",
   "metadata": {},
   "source": [
    "The table above shows a huge difference between max/min values in each sample.\n",
    "\n",
    "The values shown are sums of all the values in the language_phoneme matrix for each language."
   ]
  },
  {
   "cell_type": "code",
   "execution_count": 248,
   "metadata": {},
   "outputs": [
    {
     "data": {
      "text/html": [
       "<div>\n",
       "<style scoped>\n",
       "    .dataframe tbody tr th:only-of-type {\n",
       "        vertical-align: middle;\n",
       "    }\n",
       "\n",
       "    .dataframe tbody tr th {\n",
       "        vertical-align: top;\n",
       "    }\n",
       "\n",
       "    .dataframe thead th {\n",
       "        text-align: right;\n",
       "    }\n",
       "</style>\n",
       "<table border=\"1\" class=\"dataframe\">\n",
       "  <thead>\n",
       "    <tr style=\"text-align: right;\">\n",
       "      <th></th>\n",
       "      <th>0_min</th>\n",
       "      <th>0_min</th>\n",
       "      <th>1_min</th>\n",
       "      <th>2_min</th>\n",
       "      <th>3_min</th>\n",
       "      <th>0_max</th>\n",
       "      <th>0_max</th>\n",
       "      <th>1_max</th>\n",
       "      <th>2_max</th>\n",
       "      <th>3_max</th>\n",
       "    </tr>\n",
       "  </thead>\n",
       "  <tbody>\n",
       "    <tr>\n",
       "      <th>Shan</th>\n",
       "      <td>479</td>\n",
       "      <td>44</td>\n",
       "      <td>5</td>\n",
       "      <td>0</td>\n",
       "      <td>0</td>\n",
       "      <td>439</td>\n",
       "      <td>44</td>\n",
       "      <td>11</td>\n",
       "      <td>1</td>\n",
       "      <td>33</td>\n",
       "    </tr>\n",
       "    <tr>\n",
       "      <th>Remo</th>\n",
       "      <td>475</td>\n",
       "      <td>44</td>\n",
       "      <td>9</td>\n",
       "      <td>0</td>\n",
       "      <td>0</td>\n",
       "      <td>443</td>\n",
       "      <td>44</td>\n",
       "      <td>13</td>\n",
       "      <td>0</td>\n",
       "      <td>28</td>\n",
       "    </tr>\n",
       "    <tr>\n",
       "      <th>Mingrelian</th>\n",
       "      <td>475</td>\n",
       "      <td>44</td>\n",
       "      <td>9</td>\n",
       "      <td>0</td>\n",
       "      <td>0</td>\n",
       "      <td>431</td>\n",
       "      <td>44</td>\n",
       "      <td>24</td>\n",
       "      <td>2</td>\n",
       "      <td>27</td>\n",
       "    </tr>\n",
       "    <tr>\n",
       "      <th>Lithuanian</th>\n",
       "      <td>480</td>\n",
       "      <td>44</td>\n",
       "      <td>4</td>\n",
       "      <td>0</td>\n",
       "      <td>0</td>\n",
       "      <td>443</td>\n",
       "      <td>44</td>\n",
       "      <td>18</td>\n",
       "      <td>0</td>\n",
       "      <td>23</td>\n",
       "    </tr>\n",
       "    <tr>\n",
       "      <th>English (British)</th>\n",
       "      <td>469</td>\n",
       "      <td>44</td>\n",
       "      <td>15</td>\n",
       "      <td>0</td>\n",
       "      <td>0</td>\n",
       "      <td>453</td>\n",
       "      <td>44</td>\n",
       "      <td>7</td>\n",
       "      <td>1</td>\n",
       "      <td>23</td>\n",
       "    </tr>\n",
       "    <tr>\n",
       "      <th>Kabardian</th>\n",
       "      <td>479</td>\n",
       "      <td>44</td>\n",
       "      <td>5</td>\n",
       "      <td>0</td>\n",
       "      <td>0</td>\n",
       "      <td>441</td>\n",
       "      <td>44</td>\n",
       "      <td>22</td>\n",
       "      <td>0</td>\n",
       "      <td>21</td>\n",
       "    </tr>\n",
       "    <tr>\n",
       "      <th>Greek</th>\n",
       "      <td>469</td>\n",
       "      <td>44</td>\n",
       "      <td>15</td>\n",
       "      <td>0</td>\n",
       "      <td>0</td>\n",
       "      <td>440</td>\n",
       "      <td>44</td>\n",
       "      <td>24</td>\n",
       "      <td>1</td>\n",
       "      <td>19</td>\n",
       "    </tr>\n",
       "    <tr>\n",
       "      <th>Western Balochi</th>\n",
       "      <td>477</td>\n",
       "      <td>44</td>\n",
       "      <td>7</td>\n",
       "      <td>0</td>\n",
       "      <td>0</td>\n",
       "      <td>444</td>\n",
       "      <td>44</td>\n",
       "      <td>22</td>\n",
       "      <td>0</td>\n",
       "      <td>18</td>\n",
       "    </tr>\n",
       "    <tr>\n",
       "      <th>Friulian</th>\n",
       "      <td>478</td>\n",
       "      <td>44</td>\n",
       "      <td>6</td>\n",
       "      <td>0</td>\n",
       "      <td>0</td>\n",
       "      <td>455</td>\n",
       "      <td>44</td>\n",
       "      <td>11</td>\n",
       "      <td>0</td>\n",
       "      <td>18</td>\n",
       "    </tr>\n",
       "    <tr>\n",
       "      <th>Spanish</th>\n",
       "      <td>481</td>\n",
       "      <td>44</td>\n",
       "      <td>3</td>\n",
       "      <td>0</td>\n",
       "      <td>0</td>\n",
       "      <td>430</td>\n",
       "      <td>44</td>\n",
       "      <td>38</td>\n",
       "      <td>2</td>\n",
       "      <td>14</td>\n",
       "    </tr>\n",
       "  </tbody>\n",
       "</table>\n",
       "</div>"
      ],
      "text/plain": [
       "                   0_min  0_min  1_min  2_min  3_min  0_max  0_max  1_max  \\\n",
       "Shan                 479     44      5      0      0    439     44     11   \n",
       "Remo                 475     44      9      0      0    443     44     13   \n",
       "Mingrelian           475     44      9      0      0    431     44     24   \n",
       "Lithuanian           480     44      4      0      0    443     44     18   \n",
       "English (British)    469     44     15      0      0    453     44      7   \n",
       "Kabardian            479     44      5      0      0    441     44     22   \n",
       "Greek                469     44     15      0      0    440     44     24   \n",
       "Western Balochi      477     44      7      0      0    444     44     22   \n",
       "Friulian             478     44      6      0      0    455     44     11   \n",
       "Spanish              481     44      3      0      0    430     44     38   \n",
       "\n",
       "                   2_max  3_max  \n",
       "Shan                   1     33  \n",
       "Remo                   0     28  \n",
       "Mingrelian             2     27  \n",
       "Lithuanian             0     23  \n",
       "English (British)      1     23  \n",
       "Kabardian              0     21  \n",
       "Greek                  1     19  \n",
       "Western Balochi        0     18  \n",
       "Friulian               0     18  \n",
       "Spanish                2     14  "
      ]
     },
     "execution_count": 248,
     "metadata": {},
     "output_type": "execute_result"
    }
   ],
   "source": [
    "phoneme_type_counts = np.array(\n",
    "    [v[\"counts\"] for name, v in language_data.items() if name in multiple_samples]\n",
    ")\n",
    "\n",
    "phoneme_type_counts_df = pd.DataFrame(\n",
    "    phoneme_type_counts,\n",
    "    index=lang_stats[:, 0],\n",
    "    columns=[f\"{int(v)}_min\" for v in all_values] + [f\"{int(v)}_max\" for v in all_values],\n",
    ").sort_values(\"3_max\", ascending=False)\n",
    "phoneme_type_counts_df.head(10)"
   ]
  },
  {
   "cell_type": "markdown",
   "metadata": {},
   "source": [
    "It seems most of the difference can be explained by some datasets including information on phoneme length. In the language_phoneme matrix, a bitmaks-like encoding was used. \n",
    "\n",
    "- 0 = phoneme not present\n",
    "- 1 = phoneme present (regular length)\n",
    "- 2 = phoneme present (long length)\n",
    "- 3 = phoneme present (regular & long length)\n",
    "\n",
    "In the 10 examples above, the `min` sample doesn't contain long phonemes, while the `max` sample does.\n",
    "\n",
    "Based on that knowledge, it probably makes sense to use the `max` sample for each language. It probably contains the most phonemes for the language and also encodes more information about each phoneme than samples lacking any data on phoneme length.\n",
    "\n",
    "Adding an extra dimension (3d to 4d) would make it possible to use `Conv2D` layers as in image processing. "
   ]
  },
  {
   "cell_type": "code",
   "execution_count": 249,
   "metadata": {},
   "outputs": [
    {
     "data": {
      "text/plain": [
       "(2740, 24, 22, 1)"
      ]
     },
     "execution_count": 249,
     "metadata": {},
     "output_type": "execute_result"
    }
   ],
   "source": [
    "language_phonemes_selected = np.expand_dims(\n",
    "    np.array(\n",
    "        [\n",
    "            np.max(language_phonemes[language_names == name], axis=0)\n",
    "            for name in unique_names\n",
    "        ]\n",
    "    ),\n",
    "    axis=-1,\n",
    ") / np.max(language_phonemes)\n",
    "language_phonemes_selected.shape"
   ]
  },
  {
   "cell_type": "code",
   "execution_count": 250,
   "metadata": {},
   "outputs": [
    {
     "data": {
      "image/png": "[encoded data removed]",
      "text/plain": [
       "<Figure size 2200x1400 with 8 Axes>"
      ]
     },
     "metadata": {},
     "output_type": "display_data"
    }
   ],
   "source": [
    "import matplotlib.pyplot as plt\n",
    "\n",
    "r, c = 2, 4\n",
    "\n",
    "gen = np.random.default_rng()\n",
    "samples = gen.choice(language_phonemes_selected, r * c, replace=False)\n",
    "\n",
    "fig, axs = plt.subplots(r, c, figsize=(22, 14), linewidth=10)\n",
    "fig.tight_layout()\n",
    "\n",
    "cnt = 0\n",
    "for i in range(r):\n",
    "    for j in range(c):\n",
    "        axs[i, j].imshow(\n",
    "            samples[cnt],\n",
    "            cmap=plt.get_cmap(\"copper_r\"),\n",
    "            vmin=np.min(language_phonemes_selected),\n",
    "            vmax=np.max(language_phonemes_selected),\n",
    "        )\n",
    "        axs[i, j].tick_params(\n",
    "            left=False, right=False, labelleft=False, labelbottom=False, bottom=False\n",
    "        )\n",
    "        cnt += 1\n",
    "\n",
    "fig.suptitle(\"Selection of Languages\", fontsize=30)\n",
    "plt.savefig(\"./images/language_selection.png\")\n",
    "plt.show()"
   ]
  },
  {
   "cell_type": "code",
   "execution_count": 251,
   "metadata": {},
   "outputs": [],
   "source": [
    "np.save(\"./data/language_phonemes_selected.npy\", language_phonemes_selected)"
   ]
  },
  {
   "cell_type": "code",
   "execution_count": 252,
   "metadata": {},
   "outputs": [
    {
     "data": {
      "image/png": "[encoded data removed]",
      "text/plain": [
       "<Figure size 640x480 with 1 Axes>"
      ]
     },
     "metadata": {},
     "output_type": "display_data"
    }
   ],
   "source": [
    "# what does an average language look like?\n",
    "\n",
    "fig = plt.imshow(\n",
    "    np.mean(language_phonemes_selected, axis=0),\n",
    "    cmap=plt.get_cmap(\"copper_r\"),\n",
    "    vmin=np.min(language_phonemes_selected),\n",
    "    vmax=np.max(language_phonemes_selected),\n",
    ")\n",
    "plt.axis(\"off\")\n",
    "plt.title(\"Average Language\")\n",
    "plt.savefig(\"./images/average_language.png\")\n",
    "plt.show()"
   ]
  },
  {
   "cell_type": "code",
   "execution_count": 253,
   "metadata": {},
   "outputs": [
    {
     "data": {
      "image/png": "[encoded data removed]",
      "text/plain": [
       "<Figure size 640x480 with 1 Axes>"
      ]
     },
     "metadata": {},
     "output_type": "display_data"
    }
   ],
   "source": [
    "# what does the sum of all languages look like?\n",
    "\n",
    "fig = plt.imshow(\n",
    "    np.sum(language_phonemes_selected, axis=0),\n",
    "    cmap=plt.get_cmap(\"copper_r\"),\n",
    ")\n",
    "plt.axis(\"off\")\n",
    "plt.title(\"All Languages\")\n",
    "plt.savefig(\"./images/all_languages.png\")\n",
    "plt.show()"
   ]
  }
 ],
 "metadata": {
  "kernelspec": {
   "display_name": "wals",
   "language": "python",
   "name": "python3"
  },
  "language_info": {
   "codemirror_mode": {
    "name": "ipython",
    "version": 3
   },
   "file_extension": ".py",
   "mimetype": "text/x-python",
   "name": "python",
   "nbconvert_exporter": "python",
   "pygments_lexer": "ipython3",
   "version": "3.12.0"
  }
 },
 "nbformat": 4,
 "nbformat_minor": 2
}
